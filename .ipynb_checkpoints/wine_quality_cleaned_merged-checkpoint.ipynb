{
 "cells": [
  {
   "cell_type": "code",
   "execution_count": 4,
   "id": "8a0355c7",
   "metadata": {},
   "outputs": [],
   "source": [
    "# Import dependencies\n",
    "import pandas as pd\n",
    "import numpy as np\n",
    "from pprint import pprint\n",
    "import matplotlib.pyplot as plt \n",
    "import seaborn as sns\n",
    "%matplotlib inline"
   ]
  },
  {
   "cell_type": "code",
   "execution_count": 6,
   "id": "3e049b8c",
   "metadata": {},
   "outputs": [],
   "source": [
    "#Read file\n",
    "red_wine_df = pd.read_csv(\"Resources/winequality-red.csv\", sep=\";\")\n",
    "white_wine_df = pd.read_csv(\"Resources/winequality-white.csv\", sep=\";\")"
   ]
  },
  {
   "cell_type": "code",
   "execution_count": 8,
   "id": "0759c8ad",
   "metadata": {},
   "outputs": [
    {
     "name": "stdout",
     "output_type": "stream",
     "text": [
      "(1599, 1)\n"
     ]
    },
    {
     "data": {
      "text/html": [
       "<div>\n",
       "<style scoped>\n",
       "    .dataframe tbody tr th:only-of-type {\n",
       "        vertical-align: middle;\n",
       "    }\n",
       "\n",
       "    .dataframe tbody tr th {\n",
       "        vertical-align: top;\n",
       "    }\n",
       "\n",
       "    .dataframe thead th {\n",
       "        text-align: right;\n",
       "    }\n",
       "</style>\n",
       "<table border=\"1\" class=\"dataframe\">\n",
       "  <thead>\n",
       "    <tr style=\"text-align: right;\">\n",
       "      <th></th>\n",
       "      <th>fixed acidity,volatile acidity,citric acid,residual sugar,chlorides,free sulfur dioxide,total sulfur dioxide,density,pH,sulphates,alcohol,quality</th>\n",
       "    </tr>\n",
       "  </thead>\n",
       "  <tbody>\n",
       "    <tr>\n",
       "      <th>0</th>\n",
       "      <td>7.4,0.7,0,1.9,0.076,11,34,0.9978,3.51,0.56,9.4,5</td>\n",
       "    </tr>\n",
       "    <tr>\n",
       "      <th>1</th>\n",
       "      <td>7.8,0.88,0,2.6,0.098,25,67,0.9968,3.2,0.68,9.8,5</td>\n",
       "    </tr>\n",
       "    <tr>\n",
       "      <th>2</th>\n",
       "      <td>7.8,0.76,0.04,2.3,0.092,15,54,0.997,3.26,0.65,9.8,5</td>\n",
       "    </tr>\n",
       "    <tr>\n",
       "      <th>3</th>\n",
       "      <td>11.2,0.28,0.56,1.9,0.075,17,60,0.998,3.16,0.58,9.8,6</td>\n",
       "    </tr>\n",
       "    <tr>\n",
       "      <th>4</th>\n",
       "      <td>7.4,0.7,0,1.9,0.076,11,34,0.9978,3.51,0.56,9.4,5</td>\n",
       "    </tr>\n",
       "  </tbody>\n",
       "</table>\n",
       "</div>"
      ],
      "text/plain": [
       "  fixed acidity,volatile acidity,citric acid,residual sugar,chlorides,free sulfur dioxide,total sulfur dioxide,density,pH,sulphates,alcohol,quality\n",
       "0                                                                                                  7.4,0.7,0,1.9,0.076,11,34,0.9978,3.51,0.56,9.4,5\n",
       "1                                                                                                  7.8,0.88,0,2.6,0.098,25,67,0.9968,3.2,0.68,9.8,5\n",
       "2                                                                                               7.8,0.76,0.04,2.3,0.092,15,54,0.997,3.26,0.65,9.8,5\n",
       "3                                                                                              11.2,0.28,0.56,1.9,0.075,17,60,0.998,3.16,0.58,9.8,6\n",
       "4                                                                                                  7.4,0.7,0,1.9,0.076,11,34,0.9978,3.51,0.56,9.4,5"
      ]
     },
     "execution_count": 8,
     "metadata": {},
     "output_type": "execute_result"
    }
   ],
   "source": [
    "#print red wine df\n",
    "print(red_wine_df.shape)\n",
    "red_wine_df.head()"
   ]
  },
  {
   "cell_type": "code",
   "execution_count": 9,
   "id": "2ca844ca",
   "metadata": {},
   "outputs": [
    {
     "name": "stdout",
     "output_type": "stream",
     "text": [
      "(4898, 1)\n"
     ]
    },
    {
     "data": {
      "text/html": [
       "<div>\n",
       "<style scoped>\n",
       "    .dataframe tbody tr th:only-of-type {\n",
       "        vertical-align: middle;\n",
       "    }\n",
       "\n",
       "    .dataframe tbody tr th {\n",
       "        vertical-align: top;\n",
       "    }\n",
       "\n",
       "    .dataframe thead th {\n",
       "        text-align: right;\n",
       "    }\n",
       "</style>\n",
       "<table border=\"1\" class=\"dataframe\">\n",
       "  <thead>\n",
       "    <tr style=\"text-align: right;\">\n",
       "      <th></th>\n",
       "      <th>fixed acidity,volatile acidity,citric acid,residual sugar,chlorides,free sulfur dioxide,total sulfur dioxide,density,pH,sulphates,alcohol,quality</th>\n",
       "    </tr>\n",
       "  </thead>\n",
       "  <tbody>\n",
       "    <tr>\n",
       "      <th>0</th>\n",
       "      <td>7,0.27,0.36,20.7,0.045,45,170,1.001,3,0.45,8.8,6</td>\n",
       "    </tr>\n",
       "    <tr>\n",
       "      <th>1</th>\n",
       "      <td>6.3,0.3,0.34,1.6,0.049,14,132,0.994,3.3,0.49,9.5,6</td>\n",
       "    </tr>\n",
       "    <tr>\n",
       "      <th>2</th>\n",
       "      <td>8.1,0.28,0.4,6.9,0.05,30,97,0.9951,3.26,0.44,10.1,6</td>\n",
       "    </tr>\n",
       "    <tr>\n",
       "      <th>3</th>\n",
       "      <td>7.2,0.23,0.32,8.5,0.058,47,186,0.9956,3.19,0.4,9.9,6</td>\n",
       "    </tr>\n",
       "    <tr>\n",
       "      <th>4</th>\n",
       "      <td>7.2,0.23,0.32,8.5,0.058,47,186,0.9956,3.19,0.4,9.9,6</td>\n",
       "    </tr>\n",
       "  </tbody>\n",
       "</table>\n",
       "</div>"
      ],
      "text/plain": [
       "  fixed acidity,volatile acidity,citric acid,residual sugar,chlorides,free sulfur dioxide,total sulfur dioxide,density,pH,sulphates,alcohol,quality\n",
       "0                                                                                                  7,0.27,0.36,20.7,0.045,45,170,1.001,3,0.45,8.8,6\n",
       "1                                                                                                6.3,0.3,0.34,1.6,0.049,14,132,0.994,3.3,0.49,9.5,6\n",
       "2                                                                                               8.1,0.28,0.4,6.9,0.05,30,97,0.9951,3.26,0.44,10.1,6\n",
       "3                                                                                              7.2,0.23,0.32,8.5,0.058,47,186,0.9956,3.19,0.4,9.9,6\n",
       "4                                                                                              7.2,0.23,0.32,8.5,0.058,47,186,0.9956,3.19,0.4,9.9,6"
      ]
     },
     "execution_count": 9,
     "metadata": {},
     "output_type": "execute_result"
    }
   ],
   "source": [
    "#print white wine df\n",
    "print(white_wine_df.shape)\n",
    "white_wine_df.head()"
   ]
  },
  {
   "cell_type": "code",
   "execution_count": 13,
   "id": "51ec0779",
   "metadata": {},
   "outputs": [
    {
     "data": {
      "text/plain": [
       "fixed acidity,volatile acidity,citric acid,residual sugar,chlorides,free sulfur dioxide,total sulfur dioxide,density,pH,sulphates,alcohol,quality    0\n",
       "dtype: int64"
      ]
     },
     "execution_count": 13,
     "metadata": {},
     "output_type": "execute_result"
    }
   ],
   "source": [
    "#Check features with missing values for red\n",
    "red_wine_df.isnull().sum()"
   ]
  },
  {
   "cell_type": "code",
   "execution_count": 14,
   "id": "8a8bd24e",
   "metadata": {},
   "outputs": [
    {
     "data": {
      "text/plain": [
       "fixed acidity,volatile acidity,citric acid,residual sugar,chlorides,free sulfur dioxide,total sulfur dioxide,density,pH,sulphates,alcohol,quality    0\n",
       "dtype: int64"
      ]
     },
     "execution_count": 14,
     "metadata": {},
     "output_type": "execute_result"
    }
   ],
   "source": [
    "#Check features with missing values for white\n",
    "white_wine_df.isnull().sum()"
   ]
  },
  {
   "cell_type": "code",
   "execution_count": 15,
   "id": "bf76094e",
   "metadata": {},
   "outputs": [
    {
     "data": {
      "text/plain": [
       "937"
      ]
     },
     "execution_count": 15,
     "metadata": {},
     "output_type": "execute_result"
    }
   ],
   "source": [
    "#Check if there are duplicate rows in these datasets significant/need to be dropped.\n",
    "white_wine_df.duplicated().sum()"
   ]
  },
  {
   "cell_type": "code",
   "execution_count": 16,
   "id": "634b4cdf",
   "metadata": {},
   "outputs": [
    {
     "data": {
      "text/plain": [
       "240"
      ]
     },
     "execution_count": 16,
     "metadata": {},
     "output_type": "execute_result"
    }
   ],
   "source": [
    "#Check if there are duplicate rows in these datasets significant/need to be dropped.\n",
    "red_wine_df.duplicated().sum()"
   ]
  },
  {
   "cell_type": "code",
   "execution_count": 17,
   "id": "06ecc1ac",
   "metadata": {},
   "outputs": [
    {
     "ename": "AttributeError",
     "evalue": "'DataFrame' object has no attribute 'quality'",
     "output_type": "error",
     "traceback": [
      "\u001b[1;31m---------------------------------------------------------------------------\u001b[0m",
      "\u001b[1;31mAttributeError\u001b[0m                            Traceback (most recent call last)",
      "Cell \u001b[1;32mIn[17], line 2\u001b[0m\n\u001b[0;32m      1\u001b[0m \u001b[38;5;66;03m#Find the number of unique values for quality in eeach dataset\u001b[39;00m\n\u001b[1;32m----> 2\u001b[0m \u001b[43mred_wine_df\u001b[49m\u001b[38;5;241;43m.\u001b[39;49m\u001b[43mquality\u001b[49m\u001b[38;5;241m.\u001b[39mnunique()\n",
      "File \u001b[1;32m~\\anaconda3\\lib\\site-packages\\pandas\\core\\generic.py:5902\u001b[0m, in \u001b[0;36mNDFrame.__getattr__\u001b[1;34m(self, name)\u001b[0m\n\u001b[0;32m   5895\u001b[0m \u001b[38;5;28;01mif\u001b[39;00m (\n\u001b[0;32m   5896\u001b[0m     name \u001b[38;5;129;01mnot\u001b[39;00m \u001b[38;5;129;01min\u001b[39;00m \u001b[38;5;28mself\u001b[39m\u001b[38;5;241m.\u001b[39m_internal_names_set\n\u001b[0;32m   5897\u001b[0m     \u001b[38;5;129;01mand\u001b[39;00m name \u001b[38;5;129;01mnot\u001b[39;00m \u001b[38;5;129;01min\u001b[39;00m \u001b[38;5;28mself\u001b[39m\u001b[38;5;241m.\u001b[39m_metadata\n\u001b[0;32m   5898\u001b[0m     \u001b[38;5;129;01mand\u001b[39;00m name \u001b[38;5;129;01mnot\u001b[39;00m \u001b[38;5;129;01min\u001b[39;00m \u001b[38;5;28mself\u001b[39m\u001b[38;5;241m.\u001b[39m_accessors\n\u001b[0;32m   5899\u001b[0m     \u001b[38;5;129;01mand\u001b[39;00m \u001b[38;5;28mself\u001b[39m\u001b[38;5;241m.\u001b[39m_info_axis\u001b[38;5;241m.\u001b[39m_can_hold_identifiers_and_holds_name(name)\n\u001b[0;32m   5900\u001b[0m ):\n\u001b[0;32m   5901\u001b[0m     \u001b[38;5;28;01mreturn\u001b[39;00m \u001b[38;5;28mself\u001b[39m[name]\n\u001b[1;32m-> 5902\u001b[0m \u001b[38;5;28;01mreturn\u001b[39;00m \u001b[38;5;28;43mobject\u001b[39;49m\u001b[38;5;241;43m.\u001b[39;49m\u001b[38;5;21;43m__getattribute__\u001b[39;49m\u001b[43m(\u001b[49m\u001b[38;5;28;43mself\u001b[39;49m\u001b[43m,\u001b[49m\u001b[43m \u001b[49m\u001b[43mname\u001b[49m\u001b[43m)\u001b[49m\n",
      "\u001b[1;31mAttributeError\u001b[0m: 'DataFrame' object has no attribute 'quality'"
     ]
    }
   ],
   "source": [
    "#Find the number of unique values for quality in eeach dataset\n",
    "red_wine_df.quality.nunique()"
   ]
  },
  {
   "cell_type": "code",
   "execution_count": 28,
   "id": "dc3e5daa",
   "metadata": {},
   "outputs": [],
   "source": [
    "#Find the number of unique values for quality in eeach dataset\n",
    "#white_wine_df.quality.nunique()"
   ]
  },
  {
   "cell_type": "code",
   "execution_count": 26,
   "id": "e6cea0c0",
   "metadata": {},
   "outputs": [],
   "source": [
    "#Calculate he mean density in the red wine dataset\n",
    "#red_wine_df.density.mean()"
   ]
  },
  {
   "cell_type": "code",
   "execution_count": 27,
   "id": "5c9ac2ac",
   "metadata": {},
   "outputs": [],
   "source": [
    "#Calculate he mean density in the red wine dataset\n",
    "#white_wine_df.density.mean()"
   ]
  },
  {
   "cell_type": "markdown",
   "id": "29fee4b1",
   "metadata": {},
   "source": [
    "Appending Data\n",
    "- Merging the two datasets, red and white wine data, into a single data\n",
    "- Create Color Columns Create two arrays as long as the number of rows in the red and white\n",
    "  dataframes that repeat the value “red” or “white.”"
   ]
  },
  {
   "cell_type": "code",
   "execution_count": 21,
   "id": "a30387fc",
   "metadata": {},
   "outputs": [],
   "source": [
    "# create color array for red dataframe\n",
    "color_red = np. repeat('red',red_wine_df.shape[0])\n",
    "# create color array for white dataframe\n",
    "color_white = np.repeat ('white',white_wine_df.shape[0])"
   ]
  },
  {
   "cell_type": "code",
   "execution_count": 22,
   "id": "280890e4",
   "metadata": {},
   "outputs": [
    {
     "data": {
      "text/html": [
       "<div>\n",
       "<style scoped>\n",
       "    .dataframe tbody tr th:only-of-type {\n",
       "        vertical-align: middle;\n",
       "    }\n",
       "\n",
       "    .dataframe tbody tr th {\n",
       "        vertical-align: top;\n",
       "    }\n",
       "\n",
       "    .dataframe thead th {\n",
       "        text-align: right;\n",
       "    }\n",
       "</style>\n",
       "<table border=\"1\" class=\"dataframe\">\n",
       "  <thead>\n",
       "    <tr style=\"text-align: right;\">\n",
       "      <th></th>\n",
       "      <th>fixed acidity,volatile acidity,citric acid,residual sugar,chlorides,free sulfur dioxide,total sulfur dioxide,density,pH,sulphates,alcohol,quality</th>\n",
       "      <th>color</th>\n",
       "    </tr>\n",
       "  </thead>\n",
       "  <tbody>\n",
       "    <tr>\n",
       "      <th>0</th>\n",
       "      <td>7.4,0.7,0,1.9,0.076,11,34,0.9978,3.51,0.56,9.4,5</td>\n",
       "      <td>red</td>\n",
       "    </tr>\n",
       "    <tr>\n",
       "      <th>1</th>\n",
       "      <td>7.8,0.88,0,2.6,0.098,25,67,0.9968,3.2,0.68,9.8,5</td>\n",
       "      <td>red</td>\n",
       "    </tr>\n",
       "    <tr>\n",
       "      <th>2</th>\n",
       "      <td>7.8,0.76,0.04,2.3,0.092,15,54,0.997,3.26,0.65,9.8,5</td>\n",
       "      <td>red</td>\n",
       "    </tr>\n",
       "    <tr>\n",
       "      <th>3</th>\n",
       "      <td>11.2,0.28,0.56,1.9,0.075,17,60,0.998,3.16,0.58,9.8,6</td>\n",
       "      <td>red</td>\n",
       "    </tr>\n",
       "    <tr>\n",
       "      <th>4</th>\n",
       "      <td>7.4,0.7,0,1.9,0.076,11,34,0.9978,3.51,0.56,9.4,5</td>\n",
       "      <td>red</td>\n",
       "    </tr>\n",
       "  </tbody>\n",
       "</table>\n",
       "</div>"
      ],
      "text/plain": [
       "  fixed acidity,volatile acidity,citric acid,residual sugar,chlorides,free sulfur dioxide,total sulfur dioxide,density,pH,sulphates,alcohol,quality  \\\n",
       "0                                                                                                  7.4,0.7,0,1.9,0.076,11,34,0.9978,3.51,0.56,9.4,5   \n",
       "1                                                                                                  7.8,0.88,0,2.6,0.098,25,67,0.9968,3.2,0.68,9.8,5   \n",
       "2                                                                                               7.8,0.76,0.04,2.3,0.092,15,54,0.997,3.26,0.65,9.8,5   \n",
       "3                                                                                              11.2,0.28,0.56,1.9,0.075,17,60,0.998,3.16,0.58,9.8,6   \n",
       "4                                                                                                  7.4,0.7,0,1.9,0.076,11,34,0.9978,3.51,0.56,9.4,5   \n",
       "\n",
       "  color  \n",
       "0   red  \n",
       "1   red  \n",
       "2   red  \n",
       "3   red  \n",
       "4   red  "
      ]
     },
     "execution_count": 22,
     "metadata": {},
     "output_type": "execute_result"
    }
   ],
   "source": [
    "#Adding arrays to the red dataframes\n",
    "red_wine_df['color']=color_red\n",
    "red_wine_df.head()"
   ]
  },
  {
   "cell_type": "code",
   "execution_count": 23,
   "id": "2996982c",
   "metadata": {},
   "outputs": [
    {
     "data": {
      "text/html": [
       "<div>\n",
       "<style scoped>\n",
       "    .dataframe tbody tr th:only-of-type {\n",
       "        vertical-align: middle;\n",
       "    }\n",
       "\n",
       "    .dataframe tbody tr th {\n",
       "        vertical-align: top;\n",
       "    }\n",
       "\n",
       "    .dataframe thead th {\n",
       "        text-align: right;\n",
       "    }\n",
       "</style>\n",
       "<table border=\"1\" class=\"dataframe\">\n",
       "  <thead>\n",
       "    <tr style=\"text-align: right;\">\n",
       "      <th></th>\n",
       "      <th>fixed acidity,volatile acidity,citric acid,residual sugar,chlorides,free sulfur dioxide,total sulfur dioxide,density,pH,sulphates,alcohol,quality</th>\n",
       "      <th>color</th>\n",
       "    </tr>\n",
       "  </thead>\n",
       "  <tbody>\n",
       "    <tr>\n",
       "      <th>0</th>\n",
       "      <td>7,0.27,0.36,20.7,0.045,45,170,1.001,3,0.45,8.8,6</td>\n",
       "      <td>white</td>\n",
       "    </tr>\n",
       "    <tr>\n",
       "      <th>1</th>\n",
       "      <td>6.3,0.3,0.34,1.6,0.049,14,132,0.994,3.3,0.49,9.5,6</td>\n",
       "      <td>white</td>\n",
       "    </tr>\n",
       "    <tr>\n",
       "      <th>2</th>\n",
       "      <td>8.1,0.28,0.4,6.9,0.05,30,97,0.9951,3.26,0.44,10.1,6</td>\n",
       "      <td>white</td>\n",
       "    </tr>\n",
       "    <tr>\n",
       "      <th>3</th>\n",
       "      <td>7.2,0.23,0.32,8.5,0.058,47,186,0.9956,3.19,0.4,9.9,6</td>\n",
       "      <td>white</td>\n",
       "    </tr>\n",
       "    <tr>\n",
       "      <th>4</th>\n",
       "      <td>7.2,0.23,0.32,8.5,0.058,47,186,0.9956,3.19,0.4,9.9,6</td>\n",
       "      <td>white</td>\n",
       "    </tr>\n",
       "  </tbody>\n",
       "</table>\n",
       "</div>"
      ],
      "text/plain": [
       "  fixed acidity,volatile acidity,citric acid,residual sugar,chlorides,free sulfur dioxide,total sulfur dioxide,density,pH,sulphates,alcohol,quality  \\\n",
       "0                                                                                                  7,0.27,0.36,20.7,0.045,45,170,1.001,3,0.45,8.8,6   \n",
       "1                                                                                                6.3,0.3,0.34,1.6,0.049,14,132,0.994,3.3,0.49,9.5,6   \n",
       "2                                                                                               8.1,0.28,0.4,6.9,0.05,30,97,0.9951,3.26,0.44,10.1,6   \n",
       "3                                                                                              7.2,0.23,0.32,8.5,0.058,47,186,0.9956,3.19,0.4,9.9,6   \n",
       "4                                                                                              7.2,0.23,0.32,8.5,0.058,47,186,0.9956,3.19,0.4,9.9,6   \n",
       "\n",
       "   color  \n",
       "0  white  \n",
       "1  white  \n",
       "2  white  \n",
       "3  white  \n",
       "4  white  "
      ]
     },
     "execution_count": 23,
     "metadata": {},
     "output_type": "execute_result"
    }
   ],
   "source": [
    "#Adding arrays to the white dataframes\n",
    "white_wine_df['color']=color_white\n",
    "white_wine_df.head()"
   ]
  },
  {
   "cell_type": "markdown",
   "id": "f604b001",
   "metadata": {},
   "source": [
    "Combine Data with Append."
   ]
  },
  {
   "cell_type": "code",
   "execution_count": 24,
   "id": "552e9c6f",
   "metadata": {},
   "outputs": [
    {
     "name": "stdout",
     "output_type": "stream",
     "text": [
      "<class 'pandas.core.frame.DataFrame'>\n",
      "Int64Index: 6497 entries, 0 to 4897\n",
      "Data columns (total 2 columns):\n",
      " #   Column                                                                                                                                             Non-Null Count  Dtype \n",
      "---  ------                                                                                                                                             --------------  ----- \n",
      " 0   fixed acidity,volatile acidity,citric acid,residual sugar,chlorides,free sulfur dioxide,total sulfur dioxide,density,pH,sulphates,alcohol,quality  6497 non-null   object\n",
      " 1   color                                                                                                                                              6497 non-null   object\n",
      "dtypes: object(2)\n",
      "memory usage: 152.3+ KB\n"
     ]
    },
    {
     "name": "stderr",
     "output_type": "stream",
     "text": [
      "C:\\Users\\cuteo\\AppData\\Local\\Temp\\ipykernel_29444\\1286905696.py:2: FutureWarning: The frame.append method is deprecated and will be removed from pandas in a future version. Use pandas.concat instead.\n",
      "  wine_df = red_wine_df.append(white_wine_df)\n"
     ]
    }
   ],
   "source": [
    "#append dataframes\n",
    "wine_df = red_wine_df.append(white_wine_df)\n",
    "# view dataframe to check for success\n",
    "wine_df.head()\n",
    "wine_df.info()\n"
   ]
  },
  {
   "cell_type": "code",
   "execution_count": 25,
   "id": "4273677d",
   "metadata": {},
   "outputs": [],
   "source": [
    "#Save newly combined Dataframes\n",
    "wine_df.to_csv('winequality_cleaned.csv', index=False)\n"
   ]
  },
  {
   "cell_type": "code",
   "execution_count": null,
   "id": "04f16584",
   "metadata": {},
   "outputs": [],
   "source": []
  }
 ],
 "metadata": {
  "kernelspec": {
   "display_name": "Python 3 (ipykernel)",
   "language": "python",
   "name": "python3"
  },
  "language_info": {
   "codemirror_mode": {
    "name": "ipython",
    "version": 3
   },
   "file_extension": ".py",
   "mimetype": "text/x-python",
   "name": "python",
   "nbconvert_exporter": "python",
   "pygments_lexer": "ipython3",
   "version": "3.10.9"
  }
 },
 "nbformat": 4,
 "nbformat_minor": 5
}
